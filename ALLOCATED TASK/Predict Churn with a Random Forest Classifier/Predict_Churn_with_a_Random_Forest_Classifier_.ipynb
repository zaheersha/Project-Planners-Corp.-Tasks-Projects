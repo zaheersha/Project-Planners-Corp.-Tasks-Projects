{
  "nbformat": 4,
  "nbformat_minor": 0,
  "metadata": {
    "colab": {
      "provenance": []
    },
    "kernelspec": {
      "name": "python3",
      "display_name": "Python 3"
    },
    "language_info": {
      "name": "python"
    }
  },
  "cells": [
    {
      "cell_type": "code",
      "execution_count": 4,
      "metadata": {
        "colab": {
          "base_uri": "https://localhost:8080/"
        },
        "id": "AqNYqJ8HNZID",
        "outputId": "9de7a61a-a4d5-46e2-8aa0-2c39ae74ed0e"
      },
      "outputs": [
        {
          "output_type": "stream",
          "name": "stdout",
          "text": [
            "Accuracy: 0.6666666666666666\n"
          ]
        }
      ],
      "source": [
        "# Importing the required libraries\n",
        "import pandas as pd\n",
        "from sklearn.model_selection import train_test_split\n",
        "from sklearn.ensemble import RandomForestClassifier\n",
        "from sklearn.metrics import accuracy_score\n",
        "from sklearn.preprocessing import LabelEncoder\n",
        "\n",
        "#Load the dataset\n",
        "dataset = pd.read_csv('churn_dataset.csv')\n",
        "\n",
        "# Data preprocessing\n",
        "# Encode categorical variables\n",
        "label_encoder = LabelEncoder()\n",
        "dataset['Gender'] = label_encoder.fit_transform(dataset['Gender'])\n",
        "dataset['InternetService'] = label_encoder.fit_transform(dataset['InternetService'])\n",
        "dataset['Churn'] = label_encoder.fit_transform(dataset['Churn'])\n",
        "\n",
        "# Drop irrelevant columns\n",
        "dataset = dataset.drop(['CustomerID'], axis=1)\n",
        "\n",
        "# Separate features and target variable\n",
        "X = dataset.iloc[:, :-1].values\n",
        "y = dataset.iloc[:, -1].values\n",
        "\n",
        "# Splitting the dataset into training and testing sets\n",
        "X_train, X_test, y_train, y_test = train_test_split(X, y, test_size=0.2, random_state=42)\n",
        "\n",
        "# Training the Random Forest classifier\n",
        "classifier = RandomForestClassifier(n_estimators=100, random_state=42)\n",
        "classifier.fit(X_train, y_train)\n",
        "\n",
        "# Predicting churn for test data\n",
        "y_pred = classifier.predict(X_test)\n",
        "\n",
        "# Evaluating the model\n",
        "accuracy = accuracy_score(y_test, y_pred)\n",
        "print(\"Accuracy:\", accuracy)\n"
      ]
    }
  ]
}