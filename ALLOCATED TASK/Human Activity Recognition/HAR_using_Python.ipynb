{
  "nbformat": 4,
  "nbformat_minor": 0,
  "metadata": {
    "colab": {
      "provenance": []
    },
    "kernelspec": {
      "name": "python3",
      "display_name": "Python 3"
    },
    "language_info": {
      "name": "python"
    }
  },
  "cells": [
    {
      "cell_type": "code",
      "execution_count": 4,
      "metadata": {
        "colab": {
          "base_uri": "https://localhost:8080/"
        },
        "id": "RPdU_5FKHsji",
        "outputId": "495c5f36-15d7-4f66-cc7e-e6c8b423fe81"
      },
      "outputs": [
        {
          "output_type": "stream",
          "name": "stdout",
          "text": [
            "Enter the number of samples: 1\n",
            "Enter the value for feature 1 of sample 1: 2\n",
            "Enter the value for feature 2 of sample 1: 2\n",
            "Enter the value for feature 3 of sample 1: 2\n",
            "Predicted activities: ['jumping']\n"
          ]
        }
      ],
      "source": [
        "# Importing the required libraries\n",
        "import pandas as pd\n",
        "from sklearn.preprocessing import StandardScaler\n",
        "from sklearn.ensemble import RandomForestClassifier\n",
        "\n",
        "# Load the dataset\n",
        "dataset = pd.read_csv('activity_data.csv')\n",
        "\n",
        "# Data preprocessing\n",
        "X = dataset.iloc[:, :-1].values\n",
        "y = dataset.iloc[:, -1].values\n",
        "\n",
        "# Feature scaling\n",
        "scaler = StandardScaler()\n",
        "X = scaler.fit_transform(X)\n",
        "\n",
        "# Training the Random Forest classifier\n",
        "classifier = RandomForestClassifier(n_estimators=100, random_state=42)\n",
        "classifier.fit(X, y)\n",
        "\n",
        "# Input new data for prediction\n",
        "new_data = []\n",
        "num_samples = int(input(\"Enter the number of samples: \"))\n",
        "\n",
        "for i in range(num_samples):\n",
        "    sample = []\n",
        "    for j in range(3):\n",
        "        value = float(input(f\"Enter the value for feature {j+1} of sample {i+1}: \"))\n",
        "        sample.append(value)\n",
        "    new_data.append(sample)\n",
        "\n",
        "# Scaling the new data\n",
        "new_data_scaled = scaler.transform(new_data)\n",
        "\n",
        "# Predicting the activities for new data\n",
        "predicted_activities = classifier.predict(new_data_scaled)\n",
        "\n",
        "# Print the predicted activities\n",
        "print(\"Predicted activities:\", predicted_activities)\n"
      ]
    }
  ]
}